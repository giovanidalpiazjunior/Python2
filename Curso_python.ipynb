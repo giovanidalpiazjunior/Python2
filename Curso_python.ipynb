{
  "nbformat": 4,
  "nbformat_minor": 0,
  "metadata": {
    "colab": {
      "provenance": [],
      "authorship_tag": "ABX9TyNmQbR0Wt3Ki0WNi6wia/TK",
      "include_colab_link": true
    },
    "kernelspec": {
      "name": "python3",
      "display_name": "Python 3"
    },
    "language_info": {
      "name": "python"
    }
  },
  "cells": [
    {
      "cell_type": "markdown",
      "metadata": {
        "id": "view-in-github",
        "colab_type": "text"
      },
      "source": [
        "<a href=\"https://colab.research.google.com/github/giovanidalpiazjunior/Python2/blob/main/Curso_python.ipynb\" target=\"_parent\"><img src=\"https://colab.research.google.com/assets/colab-badge.svg\" alt=\"Open In Colab\"/></a>"
      ]
    },
    {
      "cell_type": "code",
      "execution_count": null,
      "metadata": {
        "id": "P3yNYWUOc2xy"
      },
      "outputs": [],
      "source": [
        "# Logica de Programação\n",
        "\n",
        "# Passo 1: - Percorrer todos os arquivos da pasta Base de Dados (Pasta Vendas).\n",
        "import os\n",
        "import pandas as pd\n",
        "\n",
        "\n",
        "lista_arquivo = os.listdir(\"/content/drive/MyDrive/curso python/Vendas\")\n",
        "\n",
        "tabela_total = pd.DataFrame()\n",
        "\n",
        "# Passo 2: - Importar as bases de dados e vendas.\n",
        "for arquivo in lista_arquivo:\n",
        "  if \"Vendas\" in arquivo:\n",
        "    tabela = pd.read_csv(f\"/content/drive/MyDrive/curso python/Vendas/{arquivo}\")\n",
        "    tabela_total = tabela_total.append(tabela)\n",
        "\n",
        "# Passo 3: - Tratar / Compilar as bases de Dados.\n",
        "display(tabela_total)\n"
      ]
    },
    {
      "cell_type": "code",
      "source": [
        "# Passo 4: - Calcular o produto mais vendido (Em quantidade).\n",
        "\n",
        "tabela_produtos = tabela_total.groupby(\"Produto\").sum()\n",
        "tabela_produtos = tabela_produtos[[\"Quantidade Vendida\"]].sort_values(by = \"Quantidade Vendida\", ascending = False)\n",
        "display(tabela_produtos)"
      ],
      "metadata": {
        "id": "pjW8HE2oxuj1"
      },
      "execution_count": null,
      "outputs": []
    },
    {
      "cell_type": "code",
      "source": [
        "# Passo 5: - Produto que mais faturou (Em Faturamento).\n",
        "\n",
        "tabela_total[\"Faturamento\"] = tabela_total[\"Quantidade Vendida\"] * tabela_total[\"Preco Unitario\"]\n",
        "\n",
        "tabela_faturamento = tabela_total.groupby(\"Produto\").sum()\n",
        "tabela_faturamento = tabela_faturamento[[\"Faturamento\"]].sort_values(by = \"Faturamento\", ascending = False)\n",
        "display(tabela_faturamento)"
      ],
      "metadata": {
        "id": "520Imksuxu8o"
      },
      "execution_count": null,
      "outputs": []
    },
    {
      "cell_type": "code",
      "source": [
        "# Passo 6: - Calcular a loja / Cidade que mais vendeu (Em Faturamento) - Criar um gráfico / Dashboard.\n",
        "\n",
        "tabela_lojas = tabela_total.groupby(\"Loja\").sum()\n",
        "tabela_lojas = tabela_lojas[[\"Faturamento\"]]\n",
        "display(tabela_lojas)"
      ],
      "metadata": {
        "id": "NbnAD9Ftx4GC"
      },
      "execution_count": null,
      "outputs": []
    },
    {
      "cell_type": "code",
      "source": [
        "import plotly.express as px\n",
        "grafico = px.bar(tabela_lojas, x =tabela_lojas.index, y =\"Faturamento\")\n",
        "grafico.show()"
      ],
      "metadata": {
        "id": "w5ixVeB34iZA"
      },
      "execution_count": null,
      "outputs": []
    }
  ]
}